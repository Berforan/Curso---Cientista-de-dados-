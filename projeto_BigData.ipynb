{
  "nbformat": 4,
  "nbformat_minor": 0,
  "metadata": {
    "colab": {
      "provenance": [],
      "authorship_tag": "ABX9TyMdgDIdJ4QA06NB2GRQHHI/",
      "include_colab_link": true
    },
    "kernelspec": {
      "name": "python3",
      "display_name": "Python 3"
    },
    "language_info": {
      "name": "python"
    }
  },
  "cells": [
    {
      "cell_type": "markdown",
      "metadata": {
        "id": "view-in-github",
        "colab_type": "text"
      },
      "source": [
        "<a href=\"https://colab.research.google.com/github/Berforan/Curso---Cientista-de-dados-/blob/main/projeto_BigData.ipynb\" target=\"_parent\"><img src=\"https://colab.research.google.com/assets/colab-badge.svg\" alt=\"Open In Colab\"/></a>"
      ]
    },
    {
      "cell_type": "code",
      "execution_count": null,
      "metadata": {
        "id": "s5fkzo4NioO_"
      },
      "outputs": [],
      "source": [
        "import re\n",
        "import pandas as pd"
      ]
    },
    {
      "cell_type": "code",
      "source": [
        "from google.colab import drive\n",
        "drive.mount('/content/drive')\n",
        "\n",
        "# Você precisa se conectar com o Drive e ter uma pasta\n",
        "# com o nome ArquivosBigData, contendo nessa pasta o arquivo\n",
        "# \"vendas.txt\""
      ],
      "metadata": {
        "colab": {
          "base_uri": "https://localhost:8080/"
        },
        "id": "pv92oeuVjDeh",
        "outputId": "ec95fe11-eadc-48a2-b291-ba499946f612"
      },
      "execution_count": null,
      "outputs": [
        {
          "output_type": "stream",
          "name": "stdout",
          "text": [
            "Drive already mounted at /content/drive; to attempt to forcibly remount, call drive.mount(\"/content/drive\", force_remount=True).\n"
          ]
        }
      ]
    },
    {
      "cell_type": "code",
      "source": [
        "#ABRIR O ARQUIVO DOS DADOS DAS VENDAS NO TXT\n",
        "dadosVendas = open('/content/drive/MyDrive/ArquivosBigData/vendas.txt', \"r\").read()\n",
        "\n",
        "#REGEX PRA PEGAR AS DATAS DAS VENDAS SEPARADAS\n",
        "regex = r\"(Data \\d{2}/\\d{2}/\\d{4}\\n(?:.|\\n)*?)(?=\\nData|$)\"\n",
        "total_vendas = re.findall(regex, dadosVendas)\n",
        "\n",
        "#Arquivo principal que será manipulado usando o pandas\n",
        "principal_vendas = open(\"/content/sample_data/vendas.csv\", \"w\")\n",
        "principal_vendas.write(f\"Data;Hora;Valor\\n\") #Colunas que serão utilizadas\n",
        "principal_vendas.close()\n",
        "\n",
        "for vendas in total_vendas:\n",
        "   data_regex = r\"\\b\\d{2}/\\d{2}/\\d{4}\\b\"\n",
        "   valores_regex = r\"R\\$([\\d.,]+)\"\n",
        "   hora_regex = r\"\\d{2}:\\d{2}\"\n",
        "\n",
        "\n",
        "   datas = re.search(data_regex, vendas)\n",
        "   horas = re.findall(hora_regex, vendas)\n",
        "   valores = re.findall(valores_regex, vendas)\n",
        "\n",
        "   registrar_vendas = open(\"/content/sample_data/vendas.csv\", \"a\")\n",
        "\n",
        "   for i, valor in enumerate(valores):\n",
        "      registrar_vendas.write(f\"{datas.group()};{horas[i]};{valor}\\n\")\n",
        "\n",
        "   registrar_vendas.close()"
      ],
      "metadata": {
        "id": "xrEKbKutzmoM"
      },
      "execution_count": null,
      "outputs": []
    },
    {
      "cell_type": "code",
      "source": [
        "df_vendas = pd.read_csv(\"/content/sample_data/vendas.csv\", delimiter=\";\")\n",
        "\n",
        "df_vendas[\"Valor\"] = df_vendas[\"Valor\"].apply(lambda x: x.replace(\".\", \"\"))\n",
        "#df_vendas[\"Valor\"] = df_vendas[\"Valor\"].apply(lambda x: x.replace(\",\", \".\"))\n",
        "#é melhor nao substituir a virgula por ponto para passar para o csv e modelar os dados no power bi\n",
        "\n",
        "#Passa os valores na coluna \"Data\" para o tipo \"datetime\" e formata a data com \"dt.strftime()\" para dia-mes-ano\n",
        "df_vendas[\"Data\"] = pd.to_datetime(df_vendas[\"Data\"], dayfirst=True)\n",
        "df_vendas[\"Data\"] = df_vendas[\"Data\"].dt.strftime(\"%d/%m/%Y\") #CONVERTE A COLUNA DATA PARA OBJECT NOVAMENTE... TALVEZ USAR DEPOIS QUE CONVERTER TUDO SEJA MELHOR.\n",
        "\n",
        "#Passa os valores na coluna \"Valor\" para o tipo float\n",
        "#df_vendas[\"Valor\"] = df_vendas[\"Valor\"].astype(float)\n",
        "\n",
        "print(df_vendas)\n",
        "\n",
        "#Arquivo gerado para ser usado no PowerBi\n",
        "df_vendas.to_csv(\"dados_de_vendas.csv\", index=False)"
      ],
      "metadata": {
        "id": "sHGIRKHCz0Qr",
        "outputId": "ee9e2d76-80c7-4cb0-c321-9f060caf9c8e",
        "colab": {
          "base_uri": "https://localhost:8080/"
        }
      },
      "execution_count": null,
      "outputs": [
        {
          "output_type": "stream",
          "name": "stdout",
          "text": [
            "          Data   Hora   Valor\n",
            "0   05/09/2023  10:48  130,00\n",
            "1   05/09/2023  10:48  130,00\n",
            "2   05/09/2023  12:02  485,00\n",
            "3   05/09/2023  12:02  485,00\n",
            "4   05/09/2023  13:24  190,00\n",
            "..         ...    ...     ...\n",
            "95  16/10/2023  16:39  120,00\n",
            "96  16/10/2023  20:07  250,00\n",
            "97  16/10/2023  20:18   40,00\n",
            "98  16/10/2023  21:22   80,00\n",
            "99  16/10/2023  21:22   80,00\n",
            "\n",
            "[100 rows x 3 columns]\n"
          ]
        }
      ]
    }
  ]
}